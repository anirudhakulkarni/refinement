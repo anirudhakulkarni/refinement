{
 "cells": [
  {
   "cell_type": "code",
   "execution_count": 1,
   "metadata": {},
   "outputs": [],
   "source": [
    "!export CUDA_VISIBLE_DEVICES='6'"
   ]
  },
  {
   "cell_type": "code",
   "execution_count": 10,
   "metadata": {},
   "outputs": [],
   "source": [
    "\n",
    "from __future__ import print_function\n",
    "\n",
    "import os\n",
    "import sys\n",
    "import argparse\n",
    "import time\n",
    "import math\n",
    "import matplotlib.pyplot as plt\n",
    "\n",
    "import tensorboard_logger as tb_logger\n",
    "import torch\n",
    "import torch.backends.cudnn as cudnn\n",
    "from torchvision import transforms, datasets\n",
    "\n",
    "from util import TwoCropTransform, AverageMeter\n",
    "from util import adjust_learning_rate, warmup_learning_rate\n",
    "from util import set_optimizer, save_model\n",
    "from networks.main import SupConResNet\n",
    "from losses import SupConLoss\n",
    "from datasets import set_loader\n"
   ]
  },
  {
   "cell_type": "code",
   "execution_count": 23,
   "metadata": {},
   "outputs": [
    {
     "name": "stdout",
     "output_type": "stream",
     "text": [
      "Files already downloaded and verified\n",
      "Files already downloaded and verified\n",
      "#SAMPLES: [25252], POS:NEG: [252 : 25000], POS RATIO: 0.0100\n",
      "#SAMPLES: [10000], POS:NEG: [5000 : 5000], POS RATIO: 0.5000\n"
     ]
    }
   ],
   "source": [
    "class opt:\n",
    "    def __init__(self,dataset=\"cifar100\",data_folder='../../data/',loss='supcon'):\n",
    "        self.dataset=dataset\n",
    "        self.data_folder=data_folder\n",
    "        self.loss=loss\n",
    "        self.size=32\n",
    "        self.imratio=0.01\n",
    "        self.batch_size=128\n",
    "        self.num_workers=16\n",
    "opt1=opt()\n",
    "train_loader, val_loader=set_loader(opt1)\n"
   ]
  },
  {
   "cell_type": "code",
   "execution_count": null,
   "metadata": {},
   "outputs": [],
   "source": []
  },
  {
   "cell_type": "code",
   "execution_count": 2,
   "metadata": {},
   "outputs": [
    {
     "name": "stdout",
     "output_type": "stream",
     "text": [
      "Files already downloaded and verified\n"
     ]
    }
   ],
   "source": [
    "# construct data loader\n",
    "mean = (0.4914, 0.4822, 0.4465)\n",
    "std = (0.2023, 0.1994, 0.2010)\n",
    "normalize = transforms.Normalize(mean=mean, std=std)\n",
    "\n",
    "train_transform = transforms.Compose([\n",
    "    transforms.RandomResizedCrop(size=32, scale=(0.2, 1.)),\n",
    "    transforms.RandomHorizontalFlip(),\n",
    "    transforms.RandomApply([\n",
    "        transforms.ColorJitter(0.4, 0.4, 0.4, 0.1)\n",
    "    ], p=0.8),\n",
    "    transforms.RandomGrayscale(p=0.2),\n",
    "    transforms.ToTensor(),\n",
    "    normalize,\n",
    "])\n",
    "\n",
    "train_dataset = datasets.CIFAR10(root=\"../datasets/\",\n",
    "                                        transform=TwoCropTransform(train_transform),\n",
    "                                        download=True)\n",
    "train_sampler = None\n",
    "train_loader = torch.utils.data.DataLoader(\n",
    "    train_dataset, batch_size=64, shuffle=(train_sampler is None),\n",
    "    num_workers=16, pin_memory=True, sampler=train_sampler)\n",
    "del train_dataset, train_sampler\n"
   ]
  },
  {
   "cell_type": "code",
   "execution_count": 20,
   "metadata": {},
   "outputs": [],
   "source": [
    "model=SupConResNet('resnet20')"
   ]
  },
  {
   "cell_type": "code",
   "execution_count": 26,
   "metadata": {},
   "outputs": [
    {
     "name": "stdout",
     "output_type": "stream",
     "text": [
      "2\n"
     ]
    }
   ],
   "source": [
    "print(len(images))"
   ]
  },
  {
   "cell_type": "code",
   "execution_count": 28,
   "metadata": {},
   "outputs": [],
   "source": [
    "model=model.cuda()\n",
    "model.train()\n",
    "for idx, (images, labels) in enumerate(train_loader):\n",
    "    # plot first 10 images\n",
    "    images = torch.cat([images[0], images[1]], dim=0)\n",
    "    if labels.dim() == 2:\n",
    "        labels = labels.squeeze(1) # Assert: Shape of labels is reduced to single dimension\n",
    "    labels=labels.long()\n",
    "    # print(images)\n",
    "    images = images.cuda(non_blocking=True)\n",
    "    labels = labels.cuda(non_blocking=True)\n",
    "    bsz = labels.shape[0]\n",
    "    output = model(images)\n",
    "    \n",
    "\n",
    "    # if idx == 2:\n",
    "    #     break\n",
    "    # fig, axes = plt.subplots(nrows=2, ncols=5, figsize=(10, 4))\n",
    "    # for i in range(5):\n",
    "    #     ax = axes[0,i%5]\n",
    "    #     ax = axes[0,i%5]\n",
    "    #     img = images[0][i].squeeze().permute(1, 2, 0)\n",
    "    #     label = labels[i]\n",
    "    #     ax.imshow(img, interpolation='nearest')\n",
    "    #     ax.set_title(label)\n",
    "    #     ax.axis(\"off\")\n",
    "\n",
    "    #     ax = axes[1,i%5]\n",
    "    #     img = images[1][i].squeeze().permute(1, 2, 0)\n",
    "    #     label = labels[i]\n",
    "    #     ax.imshow(img, interpolation='nearest')\n",
    "    #     ax.set_title(label)\n",
    "    #     ax.axis(\"off\")\n",
    "    # plt.show()\n",
    "\n"
   ]
  },
  {
   "cell_type": "code",
   "execution_count": null,
   "metadata": {},
   "outputs": [],
   "source": []
  },
  {
   "cell_type": "code",
   "execution_count": 44,
   "metadata": {},
   "outputs": [],
   "source": [
    "from torch.utils.data import Dataset\n",
    "import numpy as np\n",
    "class ImageDataset(Dataset):\n",
    "    def __init__(self, images, targets,transform_train, image_size=32, crop_size=30, mode='train'):\n",
    "        self.images = images.astype(np.uint8)\n",
    "        self.targets = targets\n",
    "        self.mode = mode\n",
    "        self.transform_train = transform_train\n",
    "        # self.transform_train = TwoCropTransform(transforms.Compose([\n",
    "        #     transforms.ToTensor(),\n",
    "        #     transforms.RandomCrop((crop_size, crop_size), padding=None),\n",
    "        #     transforms.RandomHorizontalFlip(),\n",
    "        #     transforms.Resize((image_size, image_size)),\n",
    "        # ]))\n",
    "        self.transform_test = TwoCropTransform(transforms.Compose([\n",
    "            transforms.ToTensor(),\n",
    "            transforms.Resize((image_size, image_size)),\n",
    "        ]))\n",
    "\n",
    "    def __len__(self):\n",
    "        return len(self.images)\n",
    "\n",
    "    def __getitem__(self, idx):\n",
    "        image = self.images[idx]\n",
    "        target = self.targets[idx]\n",
    "        image = Image.fromarray(image.astype('uint8'))\n",
    "        if self.mode == 'train':\n",
    "            image = self.transform_train(image)\n",
    "        else:\n",
    "            image = self.transform_test(image)\n",
    "        return image, target\n"
   ]
  },
  {
   "cell_type": "code",
   "execution_count": 55,
   "metadata": {},
   "outputs": [
    {
     "name": "stdout",
     "output_type": "stream",
     "text": [
      "Files already downloaded and verified\n",
      "#SAMPLES: [50000], POS:NEG: [25000 : 25000], POS RATIO: 0.5000\n"
     ]
    }
   ],
   "source": [
    "mean = (0.4914, 0.4822, 0.4465)\n",
    "std = (0.2023, 0.1994, 0.2010)\n",
    "normalize = transforms.Normalize(mean=mean, std=std)\n",
    "\n",
    "train_transform = transforms.Compose([\n",
    "    transforms.RandomResizedCrop(size=32, scale=(0.2, 1.)),\n",
    "    transforms.RandomHorizontalFlip(),\n",
    "    transforms.RandomApply([\n",
    "        transforms.ColorJitter(0.4, 0.4, 0.4, 0.1)\n",
    "    ], p=0.8),\n",
    "    transforms.RandomGrayscale(p=0.2),\n",
    "    transforms.ToTensor(),\n",
    "    normalize,\n",
    "])\n",
    "from libauc.datasets import CAT_VS_DOG, CIFAR10, CIFAR100\n",
    "from PIL import Image\n",
    "from torch.utils.data import Dataset\n",
    "from libauc.utils import ImbalancedDataGenerator #BUG:  this is using import from conda install\n",
    "SEED=123\n",
    "imratio=0.5\n",
    "torch.manual_seed(SEED)\n",
    "np.random.seed(SEED)\n",
    "torch.backends.cudnn.deterministic = True\n",
    "torch.backends.cudnn.benchmark = False\n",
    "train_data, train_targets = CIFAR10(root=\"../datasets/\")\n",
    "\n",
    "generator = ImbalancedDataGenerator(verbose=True, random_seed=SEED)\n",
    "(train_images, train_labels) = generator.transform(\n",
    "    train_data, train_targets, imratio=imratio)\n",
    "    \n",
    "train_sampler = None\n",
    "train_loader2 = torch.utils.data.DataLoader(ImageDataset(\n",
    "train_images, train_labels,TwoCropTransform(train_transform)), batch_size=256, shuffle=(train_sampler is None), num_workers=16, pin_memory=True, sampler=train_sampler)\n",
    "\n",
    "# train_loader = torch.utils.data.DataLoader(\n",
    "#     train_dataset, batch_size=opt.batch_size, shuffle=(train_sampler is None),\n",
    "#     num_workers=opt.num_workers, pin_memory=True, sampler=train_sampler)\n"
   ]
  },
  {
   "cell_type": "code",
   "execution_count": 56,
   "metadata": {},
   "outputs": [
    {
     "name": "stderr",
     "output_type": "stream",
     "text": [
      "Clipping input data to the valid range for imshow with RGB data ([0..1] for floats or [0..255] for integers).\n",
      "Clipping input data to the valid range for imshow with RGB data ([0..1] for floats or [0..255] for integers).\n",
      "Clipping input data to the valid range for imshow with RGB data ([0..1] for floats or [0..255] for integers).\n",
      "Clipping input data to the valid range for imshow with RGB data ([0..1] for floats or [0..255] for integers).\n",
      "Clipping input data to the valid range for imshow with RGB data ([0..1] for floats or [0..255] for integers).\n",
      "Clipping input data to the valid range for imshow with RGB data ([0..1] for floats or [0..255] for integers).\n",
      "Clipping input data to the valid range for imshow with RGB data ([0..1] for floats or [0..255] for integers).\n",
      "Clipping input data to the valid range for imshow with RGB data ([0..1] for floats or [0..255] for integers).\n",
      "Clipping input data to the valid range for imshow with RGB data ([0..1] for floats or [0..255] for integers).\n",
      "Clipping input data to the valid range for imshow with RGB data ([0..1] for floats or [0..255] for integers).\n"
     ]
    },
    {
     "data": {
      "image/png": "[encoded data removed]",
      "text/plain": [
       "<Figure size 1000x400 with 10 Axes>"
      ]
     },
     "metadata": {},
     "output_type": "display_data"
    },
    {
     "name": "stderr",
     "output_type": "stream",
     "text": [
      "Clipping input data to the valid range for imshow with RGB data ([0..1] for floats or [0..255] for integers).\n",
      "Clipping input data to the valid range for imshow with RGB data ([0..1] for floats or [0..255] for integers).\n",
      "Clipping input data to the valid range for imshow with RGB data ([0..1] for floats or [0..255] for integers).\n",
      "Clipping input data to the valid range for imshow with RGB data ([0..1] for floats or [0..255] for integers).\n",
      "Clipping input data to the valid range for imshow with RGB data ([0..1] for floats or [0..255] for integers).\n",
      "Clipping input data to the valid range for imshow with RGB data ([0..1] for floats or [0..255] for integers).\n",
      "Clipping input data to the valid range for imshow with RGB data ([0..1] for floats or [0..255] for integers).\n",
      "Clipping input data to the valid range for imshow with RGB data ([0..1] for floats or [0..255] for integers).\n",
      "Clipping input data to the valid range for imshow with RGB data ([0..1] for floats or [0..255] for integers).\n",
      "Clipping input data to the valid range for imshow with RGB data ([0..1] for floats or [0..255] for integers).\n"
     ]
    },
    {
     "data": {
      "image/png": "[encoded data removed]",
      "text/plain": [
       "<Figure size 1000x400 with 10 Axes>"
      ]
     },
     "metadata": {},
     "output_type": "display_data"
    }
   ],
   "source": [
    "for idx, (images, labels) in enumerate(train_loader2):\n",
    "    # plot first 10 images\n",
    "    if idx == 2:\n",
    "        break\n",
    "    fig, axes = plt.subplots(nrows=2, ncols=5, figsize=(10, 4))\n",
    "    for i in range(5):\n",
    "        ax = axes[0,i%5]\n",
    "        ax = axes[0,i%5]\n",
    "        img = images[0][i].squeeze().permute(1, 2, 0)\n",
    "        label = labels[i].item()\n",
    "        ax.imshow(img, interpolation='nearest')\n",
    "        ax.set_title(label)\n",
    "        ax.axis(\"off\")\n",
    "\n",
    "        ax = axes[1,i%5]\n",
    "        img = images[1][i].squeeze().permute(1, 2, 0)\n",
    "        label = labels[i].item()\n",
    "        ax.imshow(img, interpolation='nearest')\n",
    "        ax.set_title(label)\n",
    "        ax.axis(\"off\")\n",
    "    plt.show()\n",
    "\n"
   ]
  },
  {
   "cell_type": "code",
   "execution_count": 2,
   "metadata": {},
   "outputs": [
    {
     "data": {
      "text/plain": [
       "<calibration_library.metrics.ECELoss at 0x7f24e1fabd90>"
      ]
     },
     "execution_count": 2,
     "metadata": {},
     "output_type": "execute_result"
    }
   ],
   "source": [
    "from calibration_library.metrics import ECELoss\n",
    "\n",
    "ECELoss()"
   ]
  },
  {
   "cell_type": "code",
   "execution_count": 1,
   "metadata": {},
   "outputs": [],
   "source": [
    "from __future__ import print_function\n",
    "\n",
    "import os\n",
    "import sys\n",
    "import argparse\n",
    "import time\n",
    "import math\n",
    "\n",
    "import tensorboard_logger as tb_logger\n",
    "import torch\n",
    "import torch.backends.cudnn as cudnn\n",
    "from torchvision import transforms, datasets\n",
    "\n",
    "from util import TwoCropTransform, AverageMeter\n",
    "from util import adjust_learning_rate, warmup_learning_rate\n",
    "from util import set_optimizer, save_model\n",
    "from networks.resnet_big import SupConResNet\n",
    "from losses import SupConLoss\n",
    "from datasets import set_loader\n",
    "\n",
    "try:\n",
    "    import apex\n",
    "    from apex import amp, optimizers\n",
    "except ImportError:\n",
    "    pass\n",
    "\n",
    "\n",
    "def parse_option():\n",
    "    parser = argparse.ArgumentParser('argument for training')\n",
    "\n",
    "    parser.add_argument('--print_freq', type=int, default=10,\n",
    "                        help='print frequency')\n",
    "    parser.add_argument('--save_freq', type=int, default=200,\n",
    "                        help='save frequency')\n",
    "    parser.add_argument('--batch_size', type=int, default=256,\n",
    "                        help='batch_size')\n",
    "    parser.add_argument('--num_workers', type=int, default=16,\n",
    "                        help='num of workers to use')\n",
    "    parser.add_argument('--epochs', type=int, default=1000,\n",
    "                        help='number of training epochs')\n",
    "\n",
    "    # optimization\n",
    "    parser.add_argument('--learning_rate', type=float, default=0.05,\n",
    "                        help='learning rate')\n",
    "    parser.add_argument('--lr_decay_epochs', type=str, default='700,800,900',\n",
    "                        help='where to decay lr, can be a list')\n",
    "    parser.add_argument('--lr_decay_rate', type=float, default=0.1,\n",
    "                        help='decay rate for learning rate')\n",
    "    parser.add_argument('--weight_decay', type=float, default=1e-4,\n",
    "                        help='weight decay')\n",
    "    parser.add_argument('--momentum', type=float, default=0.9,\n",
    "                        help='momentum')\n",
    "\n",
    "    # model dataset\n",
    "    parser.add_argument('--model', type=str, default='resnet50')\n",
    "    parser.add_argument('--dataset', type=str, default='cifar10',\n",
    "                        choices=['cifar10', 'cifar100', 'c2','stl10','path'], help='dataset')\n",
    "    parser.add_argument('--imratio', type=float, default=0.1,\n",
    "                        help='imbalance ratio')\n",
    "    parser.add_argument('--mean', type=str, help='mean of dataset in path in form of str tuple')\n",
    "    parser.add_argument('--std', type=str, help='std of dataset in path in form of str tuple')\n",
    "    parser.add_argument('--data_folder', type=str, default=None, help='path to custom dataset')\n",
    "    parser.add_argument('--size', type=int, default=32, help='parameter for RandomResizedCrop')\n",
    "\n",
    "    # method\n",
    "    parser.add_argument('--method', type=str, default='SupCon',\n",
    "                        choices=['SupCon', 'SimCLR'], help='choose method')\n",
    "\n",
    "    # temperature\n",
    "    parser.add_argument('--temp', type=float, default=0.07,\n",
    "                        help='temperature for loss function')\n",
    "\n",
    "    # other setting\n",
    "    parser.add_argument('--cosine', action='store_true',\n",
    "                        help='using cosine annealing')\n",
    "    parser.add_argument('--syncBN', action='store_true',\n",
    "                        help='using synchronized batch normalization')\n",
    "    parser.add_argument('--warm', action='store_true',\n",
    "                        help='warm-up for large batch training')\n",
    "    parser.add_argument('--trial', type=str, default='0',\n",
    "                        help='id for recording multiple runs')\n",
    "\n",
    "    opt = parser.parse_args()\n",
    "\n",
    "    # check if dataset is path that passed required arguments\n",
    "    if opt.dataset == 'path':\n",
    "        assert opt.data_folder is not None \\\n",
    "            and opt.mean is not None \\\n",
    "            and opt.std is not None\n",
    "\n",
    "    # set the path according to the environment\n",
    "    if opt.data_folder is None:\n",
    "        opt.data_folder = '../../data/'\n",
    "    opt.model_path = './save/SupCon/{}_models'.format(opt.dataset)\n",
    "    opt.tb_path = './save/SupCon/{}_tensorboard'.format(opt.dataset)\n",
    "\n",
    "    iterations = opt.lr_decay_epochs.split(',')\n",
    "    opt.lr_decay_epochs = list([])\n",
    "    for it in iterations:\n",
    "        opt.lr_decay_epochs.append(int(it))\n",
    "\n",
    "    opt.model_name = '{}_{}_{}_im_{}_lr_{}_decay_{}_bsz_{}_temp_{}_trial_{}'.\\\n",
    "        format(opt.method, opt.dataset, opt.model,opt.imratio, opt.learning_rate,\n",
    "               opt.weight_decay, opt.batch_size, opt.temp, opt.trial)\n",
    "\n",
    "    if opt.cosine:\n",
    "        opt.model_name = '{}_cosine'.format(opt.model_name)\n",
    "\n",
    "    # warm-up for large-batch training,\n",
    "    if opt.batch_size > 256:\n",
    "        opt.warm = True\n",
    "    if opt.warm:\n",
    "        opt.model_name = '{}_warm'.format(opt.model_name)\n",
    "        opt.warmup_from = 0.01\n",
    "        opt.warm_epochs = 10\n",
    "        if opt.cosine:\n",
    "            eta_min = opt.learning_rate * (opt.lr_decay_rate ** 3)\n",
    "            opt.warmup_to = eta_min + (opt.learning_rate - eta_min) * (\n",
    "                    1 + math.cos(math.pi * opt.warm_epochs / opt.epochs)) / 2\n",
    "        else:\n",
    "            opt.warmup_to = opt.learning_rate\n",
    "\n",
    "    opt.tb_folder = os.path.join(opt.tb_path, opt.model_name)\n",
    "    if not os.path.isdir(opt.tb_folder):\n",
    "        os.makedirs(opt.tb_folder)\n",
    "\n",
    "    opt.save_folder = os.path.join(opt.model_path, opt.model_name)\n",
    "    if not os.path.isdir(opt.save_folder):\n",
    "        os.makedirs(opt.save_folder)\n",
    "\n",
    "    return opt\n"
   ]
  },
  {
   "cell_type": "code",
   "execution_count": 3,
   "metadata": {},
   "outputs": [
    {
     "ename": "NameError",
     "evalue": "name 'opt' is not defined",
     "output_type": "error",
     "traceback": [
      "\u001b[0;31m---------------------------------------------------------------------------\u001b[0m",
      "\u001b[0;31mNameError\u001b[0m                                 Traceback (most recent call last)",
      "Cell \u001b[0;32mIn [3], line 2\u001b[0m\n\u001b[1;32m      1\u001b[0m \u001b[39m# opt=parse_option()\u001b[39;00m\n\u001b[0;32m----> 2\u001b[0m train_loader, val_loader\u001b[39m=\u001b[39m set_loader(opt)\n",
      "\u001b[0;31mNameError\u001b[0m: name 'opt' is not defined"
     ]
    }
   ],
   "source": [
    "# opt=parse_option()\n",
    "train_loader, val_loader= set_loader(opt)"
   ]
  },
  {
   "cell_type": "code",
   "execution_count": 8,
   "metadata": {},
   "outputs": [
    {
     "name": "stdout",
     "output_type": "stream",
     "text": [
      "3,6,8,3,5,7,5,3,10,"
     ]
    }
   ],
   "source": [
    "import numpy as np\n",
    "\n",
    "# load npy file\n",
    "datas=['balance', 'dermatology', 'ecoli', 'new-thyroid', 'pageblocks', 'segmentImb', 'shuttle', 'svmguide2', 'yeast']\n",
    "for data_name in datas:\n",
    "    # data_name='balance'\n",
    "    base_path='data_multiclass/data_index/'+data_name+'.npz/'\n",
    "    tot_X=base_path+'tot_X.npy'\n",
    "    tot_Y=base_path+'tot_Y.npy'\n",
    "    train_ids=base_path+'shuffle_train.npy'\n",
    "    test_ids=base_path+'shuffle_test.npy'\n",
    "    val_ids=base_path+'shuffle_val.npy'\n",
    "\n",
    "    X = np.load(tot_X)\n",
    "    Y = np.load(tot_Y)\n",
    "    # print(data_name,\" X.shape:\",X.shape,\" Y.shape:\",Y.shape, \"num_classes:\",len(np.unique(Y)))\n",
    "    print(len(np.unique(Y)),end=',')"
   ]
  },
  {
   "cell_type": "code",
   "execution_count": 4,
   "metadata": {},
   "outputs": [
    {
     "data": {
      "text/plain": [
       "array([[1., 1., 1., 1.],\n",
       "       [1., 1., 1., 4.],\n",
       "       [1., 1., 1., 5.],\n",
       "       ...,\n",
       "       [4., 4., 3., 2.],\n",
       "       [4., 4., 4., 4.],\n",
       "       [5., 5., 5., 3.]])"
      ]
     },
     "execution_count": 4,
     "metadata": {},
     "output_type": "execute_result"
    }
   ],
   "source": [
    "X"
   ]
  },
  {
   "cell_type": "code",
   "execution_count": 6,
   "metadata": {},
   "outputs": [
    {
     "name": "stdout",
     "output_type": "stream",
     "text": [
      "classes in dataset:  [1. 2. 3.]\n"
     ]
    }
   ],
   "source": [
    "# count classes in dataset\n"
   ]
  }
 ],
 "metadata": {
  "kernelspec": {
   "display_name": "Python 3",
   "language": "python",
   "name": "python3"
  },
  "language_info": {
   "codemirror_mode": {
    "name": "ipython",
    "version": 3
   },
   "file_extension": ".py",
   "mimetype": "text/x-python",
   "name": "python",
   "nbconvert_exporter": "python",
   "pygments_lexer": "ipython3",
   "version": "3.10.10"
  },
  "orig_nbformat": 4,
  "vscode": {
   "interpreter": {
    "hash": "47e86e659cc4c7e7c8281f4dfa198d26eba569ed7d4f5779d5419dff2bd0d92c"
   }
  }
 },
 "nbformat": 4,
 "nbformat_minor": 2
}
