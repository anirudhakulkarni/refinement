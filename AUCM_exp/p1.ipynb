{
 "cells": [
  {
   "cell_type": "code",
   "execution_count": 1,
   "metadata": {},
   "outputs": [],
   "source": [
    "# python p1s7.py --train train.csv --test test.csv --out preds.txt\n",
    "import pandas as pd\n",
    "import numpy as np\n",
    "import sys\n",
    "import matplotlib.pyplot as plt\n",
    "# import seaborn as sns"
   ]
  },
  {
   "cell_type": "code",
   "execution_count": 2,
   "metadata": {},
   "outputs": [
    {
     "name": "stdout",
     "output_type": "stream",
     "text": [
      "Collecting pandas\n",
      "  Downloading pandas-1.4.4-cp310-cp310-win_amd64.whl (10.0 MB)\n",
      "     ---------------------------------------- 10.0/10.0 MB 2.5 MB/s eta 0:00:00\n",
      "Requirement already satisfied: python-dateutil>=2.8.1 in c:\\users\\kulka\\appdata\\local\\packages\\pythonsoftwarefoundation.python.3.10_qbz5n2kfra8p0\\localcache\\local-packages\\python310\\site-packages (from pandas) (2.8.2)\n",
      "Requirement already satisfied: numpy>=1.21.0 in c:\\users\\kulka\\appdata\\local\\packages\\pythonsoftwarefoundation.python.3.10_qbz5n2kfra8p0\\localcache\\local-packages\\python310\\site-packages (from pandas) (1.23.2)\n",
      "Collecting pytz>=2020.1\n",
      "  Downloading pytz-2022.2.1-py2.py3-none-any.whl (500 kB)\n",
      "     -------------------------------------- 500.6/500.6 kB 3.9 MB/s eta 0:00:00\n",
      "Requirement already satisfied: six>=1.5 in c:\\users\\kulka\\appdata\\local\\packages\\pythonsoftwarefoundation.python.3.10_qbz5n2kfra8p0\\localcache\\local-packages\\python310\\site-packages (from python-dateutil>=2.8.1->pandas) (1.16.0)\n",
      "Installing collected packages: pytz, pandas\n",
      "Successfully installed pandas-1.4.4 pytz-2022.2.1\n"
     ]
    },
    {
     "name": "stderr",
     "output_type": "stream",
     "text": [
      "\n",
      "[notice] A new release of pip available: 22.2.1 -> 22.2.2\n",
      "[notice] To update, run: C:\\Users\\kulka\\AppData\\Local\\Microsoft\\WindowsApps\\PythonSoftwareFoundation.Python.3.10_qbz5n2kfra8p0\\python.exe -m pip install --upgrade pip\n"
     ]
    }
   ],
   "source": [
    "!pip install pandas"
   ]
  },
  {
   "cell_type": "code",
   "execution_count": null,
   "metadata": {},
   "outputs": [],
   "source": [
    "import scipy\n",
    "from sklearn.metrics import r2_score,mean_absolute_error,mean_squared_error\n",
    "from sklearn.linear_model import LinearRegression"
   ]
  },
  {
   "cell_type": "markdown",
   "metadata": {},
   "source": [
    "Part 1.1\n",
    "Understanding the data: Start with plotting the underlying pairwise-correlation between\n",
    "the variables"
   ]
  },
  {
   "cell_type": "code",
   "execution_count": null,
   "metadata": {},
   "outputs": [],
   "source": [
    "df=pd.read_csv(\"train.csv\")"
   ]
  },
  {
   "cell_type": "code",
   "execution_count": null,
   "metadata": {},
   "outputs": [],
   "source": [
    "print(df.head())"
   ]
  },
  {
   "cell_type": "code",
   "execution_count": null,
   "metadata": {},
   "outputs": [],
   "source": [
    "x1=df.iloc[:,:-1].values\n",
    "y1=df.iloc[:,-1].values"
   ]
  },
  {
   "cell_type": "code",
   "execution_count": null,
   "metadata": {},
   "outputs": [],
   "source": [
    "plt.xlabel(\"x1\")\n",
    "plt.ylabel(\"y1\")\n",
    "plt.scatter(df.x1,y1)\n",
    "plt.show()\n",
    "plt.xlabel(\"x2\")\n",
    "plt.ylabel(\"y1\")\n",
    "plt.scatter(df.x2,y1)\n",
    "plt.show()\n",
    "plt.xlabel(\"x3\")\n",
    "plt.ylabel(\"y1\")\n",
    "plt.scatter(df.x3,y1)\n",
    "plt.show()\n",
    "plt.xlabel(\"x4\")\n",
    "plt.ylabel(\"y1\")\n",
    "plt.scatter(df.x4,y1)\n",
    "plt.show()\n",
    "plt.xlabel(\"x5\")\n",
    "plt.ylabel(\"y1\")\n",
    "plt.scatter(df.x5,y1)\n",
    "plt.show()\n",
    "plt.xlabel(\"x6\")\n",
    "plt.ylabel(\"y1\")\n",
    "plt.scatter(df.x6,y1)\n",
    "plt.show()\n"
   ]
  },
  {
   "cell_type": "markdown",
   "metadata": {},
   "source": [
    "Part 1.1"
   ]
  },
  {
   "cell_type": "code",
   "execution_count": null,
   "metadata": {},
   "outputs": [],
   "source": [
    "df.drop('t',axis=1,inplace=True)\n",
    "sns.heatmap(df._get_numeric_data().astype(float).corr(),\n",
    "            square=True, cmap='RdYlGn', linewidths=.25,\n",
    "            annot=True, fmt='.2f').figure.tight_layout()\n",
    "plt.show()"
   ]
  },
  {
   "cell_type": "code",
   "execution_count": null,
   "metadata": {},
   "outputs": [],
   "source": [
    "df.corr().iloc[3].sort_values(ascending= False)"
   ]
  },
  {
   "cell_type": "code",
   "execution_count": null,
   "metadata": {},
   "outputs": [],
   "source": [
    "row=100\n",
    "X_train=x1[:row]\n",
    "X_val=x1[row:]\n",
    "y_train=y1[:row]\n",
    "y_val=y1[row:]\n",
    "\n",
    "def score(model,test,name='default'):\n",
    "    model.fit(X_train,y_train)\n",
    "    ypred=model.predict(test)\n",
    "    print(name)\n",
    "    print('Accuracy of training set: ',round(model.score(X_train,y_train)*100,2))\n",
    "    print('Accuracy of test set: ',round(model.score(X_val,y_val)*100,2))\n",
    "    print('mean squared error: ',round(mean_squared_error(y_val,ypred)/100,2))\n",
    "    print('mean absolute error: ',round(mean_absolute_error(y_val,ypred),2))\n",
    "    print('r2_score: ',round(r2_score(y_val,ypred)*100,2))\n",
    "\n",
    "le=LinearRegression()\n",
    "score(le,X_val,name='Linear Regression')"
   ]
  },
  {
   "cell_type": "markdown",
   "metadata": {},
   "source": [
    "part 1.2\n",
    "Effect of batch size: Implement vanilla (without regularization) least-squares based regression using a) Stochastic Gradient Descent (SGD) and b) Batch Gradient Descent1\n",
    ". Report\n",
    "the weights in each strategy. Plot the loss curve with respect to different batch sizes. Report\n",
    "the difference in convergence of gradient descent (if any) on by varying the batch size.\n"
   ]
  },
  {
   "cell_type": "code",
   "execution_count": 17,
   "metadata": {},
   "outputs": [
    {
     "name": "stdout",
     "output_type": "stream",
     "text": [
      "stochastic gradient descent : \n",
      "\n"
     ]
    },
    {
     "data": {
      "image/png": "[encoded data removed]",
      "text/plain": [
       "<Figure size 432x288 with 1 Axes>"
      ]
     },
     "metadata": {
      "needs_background": "light"
     },
     "output_type": "display_data"
    },
    {
     "name": "stdout",
     "output_type": "stream",
     "text": [
      "theta for stochastic gradient descent: \n",
      " [[ 0.45539433]\n",
      " [ 0.05340427]\n",
      " [ 0.09281292]\n",
      " [ 0.42487828]\n",
      " [ 0.08533734]\n",
      " [-0.00088933]\n",
      " [-0.01715684]]\n",
      "batch gradient descent : \n",
      "\n",
      "theta for batch gradient descent: \n",
      " [[ 0.46611697]\n",
      " [ 0.05153487]\n",
      " [ 0.0955369 ]\n",
      " [ 0.40928998]\n",
      " [ 0.07934725]\n",
      " [-0.00308621]\n",
      " [-0.0177802 ]]\n"
     ]
    },
    {
     "data": {
      "image/png": "[encoded data removed]",
      "text/plain": [
       "<Figure size 432x288 with 1 Axes>"
      ]
     },
     "metadata": {
      "needs_background": "light"
     },
     "output_type": "display_data"
    }
   ],
   "source": [
    "def read_data(datafile):\n",
    "    df=pd.read_csv(datafile)\n",
    "    x1=df.iloc[:,:-1].values\n",
    "    y1=df.iloc[:,-1].values\n",
    "    return x1,y1\n",
    "\n",
    "def addbias(x1):\n",
    "    c=np.size(x1,axis=0)\n",
    "    x=np.ones(shape=(c,1))\n",
    "    x=np.column_stack((x,x1))\n",
    "    return x\n",
    "\n",
    "def normalize(x):\n",
    "    maxx=np.amax(x,axis=0)\n",
    "    x=x/maxx\n",
    "    return maxx,x\n",
    "\n",
    "def pre_process(x,y):\n",
    "    x=addbias(x)\n",
    "    y=np.array(y)\n",
    "    max_x,x=normalize(x)\n",
    "    max_y,y=normalize(y)\n",
    "    return max_x,x,max_y,y\n",
    "\n",
    "def compute_cost(x,y,theta):\n",
    "    m=np.size(x,axis=0)\n",
    "    n=np.size(x,axis=1)\n",
    "    y=y.reshape(m,1)\n",
    "    x=x.reshape(m,n)\n",
    "    h=np.dot(x,theta)\n",
    "    loss=np.dot((h-y).T,(h-y))\n",
    "    cost=loss/(2*m)\n",
    "    return cost\n",
    "\n",
    "#shuffle data\n",
    "def shuffle_data(x,y):\n",
    "    data=np.column_stack((x,y))\n",
    "    np.random.shuffle(data)\n",
    "    x=data[:,:-1]\n",
    "    y=data[:,-1]\n",
    "    return x,y\n",
    "\n",
    "\n",
    "def stochastic_gradient_descent(x,y,epochs,precision,alpha=0.01,iterations=1):\n",
    "    m=np.size(x,axis=0)\n",
    "    n=np.size(x,axis=1)\n",
    "    theta=np.zeros(shape=(n,1))\n",
    "    # cost=np.zeros(shape=(m*iterations,1))\n",
    "    # iter=np.zeros(shape=(m*iterations,1))\n",
    "    cost=[]\n",
    "    iter=[]\n",
    "\n",
    "    #np.zeros(shape=(iterations//100 +1,2))\n",
    "    #shuffle data\n",
    "    j=0\n",
    "    e=0\n",
    "    itrn=0\n",
    "    x,y=shuffle_data(x,y)\n",
    "    while(e<=iterations):\n",
    "        for i in range(m):\n",
    "            h=np.dot(x[i],theta)\n",
    "            theta=theta-alpha*np.dot(x[i].T.reshape(n,1),(h-y[i]).reshape(1,1))\n",
    "            if(i%2==0 and compute_cost(x,y,theta)[0][0]>1e-3):\n",
    "                cost.append(compute_cost(x,y,theta)[0][0])\n",
    "                # cost[j]=compute_cost(x,y,theta)\n",
    "                # iter[j]=i*(e+1)\n",
    "                iter.append(itrn)\n",
    "                # iter[j]=itrn\n",
    "                j=j+1\n",
    "                itrn+=1\n",
    "            #append cost\n",
    "            #cost[i]=compute_cost(x,y,theta)\n",
    "            #if (cost[i][0] <= precision):\n",
    "            #    break\n",
    "        e+=1\n",
    "    # print('cost: ',cost)\n",
    "    # print('iterations: ',iter)\n",
    "    #plot cost vs iter\n",
    "    plt.xlabel(\"iter\")\n",
    "    plt.ylabel(\"cost\")\n",
    "    plt.plot(iter,cost)\n",
    "    plt.show()\n",
    "    ''' for i in range(iterations):\n",
    "        for j in range(m):\n",
    "            rand=np.random.randint(0,m)\n",
    "            x_rand=x[rand,:].reshape(1,n)\n",
    "            y_rand=y[rand].reshape(1,1)\n",
    "            h=np.dot(x_rand,theta)\n",
    "            theta=theta-alpha*np.dot(x_rand.T.reshape(n,1),(h-y_rand).reshape(1,1))\n",
    "        # for j in range(m):\n",
    "        #     h=np.dot(x[j],theta)\n",
    "        #     #print(x[j].shape,theta.shape,h.shape)\n",
    "        #     theta=theta-(alpha/m)*np.dot(x[j].T.reshape(n,1),(h-y[j]).reshape(1,1))\n",
    "        cost[i]=compute_cost(x,y,theta)\n",
    "        if (cost[i] <= precision):\n",
    "            break'''\n",
    "    return theta,cost\n",
    "\n",
    "def batch_gradient_descent(x,y,precision,alpha=0.01,iterations=1000):\n",
    "    m=np.size(x,axis=0)\n",
    "    n=np.size(x,axis=1)\n",
    "    theta=np.zeros(shape=(n,1))\n",
    "    cost=np.zeros(shape=(iterations,1))\n",
    "    for i in range(iterations):\n",
    "        h=np.dot(x,theta)\n",
    "        theta=theta-(alpha/m)*np.dot(x.T,(h-y.reshape(m,1)))\n",
    "        cost[i]=compute_cost(x,y,theta)\n",
    "        if (cost[i] <= precision):\n",
    "            break\n",
    "    return theta,cost\n",
    "#plot 2d array cost[i][0] vs cost[i][1]\n",
    "def plot2(cost,gd):\n",
    "    print(cost)\n",
    "    plt.plot(cost[:,1],cost[:,0])\n",
    "    plt.xlabel(\"iterations\")\n",
    "    plt.ylabel(\"cost\")\n",
    "    plt.title(\"cost vs iterations \"+ gd)\n",
    "    plt.show()\n",
    "   \n",
    "def plot(cost,gd):\n",
    "    plt.plot(cost)\n",
    "    plt.xlabel(\"iterations\")\n",
    "    plt.ylabel(\"cost\")\n",
    "    plt.title(\"cost vs iterations \"+ gd)\n",
    "    plt.show()\n",
    "\n",
    "def part2_main():\n",
    "    x1,y1=read_data(\"train.csv\")\n",
    "    max_x,x,max_y,y=pre_process(x1,y1)\n",
    "    print(\"stochastic gradient descent : \\n\")\n",
    "    theta_sgd,cost_sgd=stochastic_gradient_descent(x,y,1,0.0001)\n",
    "    \n",
    "    print(\"theta for stochastic gradient descent: \\n\",theta_sgd)\n",
    "    #plot2(cost_sgd,\"stochastic gradient descent\")\n",
    "\n",
    "    print(\"batch gradient descent : \\n\")\n",
    "    #theta_bgd,cost_bgd,theta_his=batch_gradient_descent1(x,y,[0,0,0,0,0,0,0])\n",
    "    theta_bgd,cost_bgd=batch_gradient_descent(x,y,0.0001)\n",
    "    print(\"theta for batch gradient descent: \\n\",theta_bgd)\n",
    "    plot(cost_bgd,\"batch gradient descent\")\n",
    "    \n",
    "part2_main()"
   ]
  },
  {
   "cell_type": "markdown",
   "metadata": {},
   "source": [
    "Part 1.3\n",
    "Effect of Regularization: In this sub-task, perform minimization of the cost function using\n",
    "a) lasso regression and b) ridge regression and learn the weights using SGD. Determine the\n",
    "value of the regularization parameter (λ) in both the cases. Plot/Report the weights in both\n",
    "the cases. Is there any intuitive difference"
   ]
  },
  {
   "cell_type": "code",
   "execution_count": null,
   "metadata": {},
   "outputs": [],
   "source": [
    "#ridge cost\n",
    "def ridge_cost(x,y,theta,alpha):\n",
    "    m=np.size(x,axis=0)\n",
    "    n=np.size(x,axis=1)\n",
    "    cost=compute_cost(x,y,theta)\n",
    "    reg=cost+alpha*np.dot(theta.T,theta)\n",
    "    return reg\n",
    "#lasso cost\n",
    "def lasso_cost(x,y,theta,alpha):\n",
    "    m=np.size(x,axis=0)\n",
    "    cost=compute_cost(x,y,theta)\n",
    "    reg=cost+alpha*np.sum(np.abs(theta))\n",
    "    return reg\n",
    "#caluculate regularization parameter\n",
    "def regularization_parameter(x,y,theta):\n",
    "    m=np.size(x,axis=0)\n",
    "    h=np.dot(x,theta)\n",
    "    reg=(1/m)*np.sum(np.abs(h-y))\n",
    "    return reg\n",
    "# ridge regression\n",
    "def ridge_regression(x,y,alpha):\n",
    "    m=np.size(x,axis=0)\n",
    "    n=np.size(x,axis=1)\n",
    "    theta=np.zeros(shape=(n,1))\n",
    "    theta=np.dot(np.dot(np.linalg.inv(np.dot(x.T,x)+alpha*np.identity(n)),x.T),y)\n",
    "    return theta\n",
    "#lasso regression\n",
    "def lasso_regression(x,y,alpha):\n",
    "    m=np.size(x,axis=0)\n",
    "    n=np.size(x,axis=1)\n",
    "    theta=np.zeros(shape=(n,1))\n",
    "    theta=np.dot(np.dot(np.linalg.inv(np.dot(x.T,x)+alpha*np.identity(n)),x.T),y)\n",
    "    return theta\n",
    "# stocastic gradient descent with lasso\n",
    "def sgd_lasso(x,y,alpha,precision,iterations=1000):\n",
    "    m=np.size(x,axis=0)\n",
    "    n=np.size(x,axis=1)\n",
    "    theta=np.zeros(shape=(n,1))\n",
    "    cost=np.zeros(shape=(iterations,1))\n",
    "    for i in range(iterations):\n",
    "        for j in range(2):\n",
    "            rand=np.random.randint(0,m)\n",
    "            x_rand=x[rand,:].reshape(1,n)\n",
    "            y_rand=y[rand].reshape(1,1)\n",
    "            h=np.dot(x_rand,theta)\n",
    "            theta=theta-lasso_regression(x_rand,y_rand,alpha)\n",
    "        cost[i]=lasso_cost(x,y,theta,alpha)\n",
    "        if (cost[i] <= precision):\n",
    "            break\n",
    "    return theta,cost,regularization_parameter(x,y,theta)\n",
    "\n",
    "#stocastic gradient descent with ridge\n",
    "def sgd_ridge(x,y,alpha,precision,iterations=1000):\n",
    "    m=np.size(x,axis=0)\n",
    "    n=np.size(x,axis=1)\n",
    "    theta=np.zeros(shape=(n,1))\n",
    "    cost=np.zeros(shape=(iterations,1))\n",
    "    for i in range(iterations):\n",
    "        for j in range(2):\n",
    "            rand=np.random.randint(0,m)\n",
    "            x_rand=x[rand,:].reshape(1,n)\n",
    "            y_rand=y[rand].reshape(1,1)\n",
    "            h=np.dot(x_rand,theta)\n",
    "            theta=theta-(alpha/m)*ridge_regression(x_rand,y_rand,alpha)\n",
    "        cost[i]=ridge_cost(x,y,theta,alpha)\n",
    "        if (cost[i] <= precision):\n",
    "            break\n",
    "    return theta,cost,regularization_parameter(x,y,theta)\n",
    "\n",
    "#main function for part 3\n",
    "def part3_main():\n",
    "    x1,y1=read_data(\"train.csv\")\n",
    "    max_x,x,max_y,y=pre_process(x1,y1)\n",
    "    print(\"stochastic gradient descent with lasso : \\n\")\n",
    "    theta_sgd_lasso,cost_sgd_lasso,reg_sgd_lasso=sgd_lasso(x,y,0.0001,0.0001)\n",
    "    print(\"theta for stochastic gradient descent with lasso: \\n\",theta_sgd_lasso)\n",
    "    print(\"regularization parameter for stochastic gradient descent with lasso: \\n\",reg_sgd_lasso)\n",
    "    plot(cost_sgd_lasso,\"SGD with lasso\")\n",
    "    \n",
    "    print(\"stochastic gradient descent with ridge : \\n\")\n",
    "    theta_sgd_ridge,cost_sgd_ridge,reg_sgd_ridge=sgd_ridge(x,y,0.0001,0.0001)\n",
    "    print(\"theta for stochastic gradient descent with ridge: \\n\",theta_sgd_ridge)\n",
    "    print(\"regularization parameter for stochastic gradient descent with ridge: \\n\",reg_sgd_ridge)\n",
    "    plot(cost_sgd_ridge,\"SGD with ridge\")\n",
    "\n",
    "part3_main()"
   ]
  },
  {
   "cell_type": "markdown",
   "metadata": {},
   "source": [
    "part 1.4\n",
    "Feature Engineering Keeping subtask 1 in consideration, can you improvise the regularized\n",
    "version of the cost function? You are allowed to experiment with your own cost function (other\n",
    "than sum-of-squares error). If yes, report the weights in this improved version.\n"
   ]
  },
  {
   "cell_type": "code",
   "execution_count": null,
   "metadata": {},
   "outputs": [],
   "source": [
    "lambda_reg=615\n",
    "#feature engineering\n",
    "def feature_engineering(x):\n",
    "    m=np.size(x,axis=0)\n",
    "    n=np.size(x,axis=1)\n",
    "    x_new=np.zeros(shape=(m,4))\n",
    "    x_new[:,0]=x[:,1]\n",
    "    x_new[:,1]=x[:,3]\n",
    "    x_new[:,2]=x[:,4]\n",
    "    x_new[:,3]=x[:,5]\n",
    "    return x_new\n",
    "#main function for part 4\n",
    "def part4_main():\n",
    "    x1,y1=read_data(\"train.csv\")\n",
    "    x1=feature_engineering(x1)\n",
    "    max_x,x,max_y,y=pre_process(x1,y1)\n",
    "    print(\"SGD with lasso and feature engineering : \\n\")\n",
    "    theta_sgd_lasso,cost_sgd_lasso,reg_sgd_lasso=sgd_lasso(x,y,0.0001,0.0001)\n",
    "    print(\"theta for SGD with lasso and feature engineering: \\n\",theta_sgd_lasso)\n",
    "    print(\"regularization parameter for SGD with lasso and feature engineering: \\n\",reg_sgd_lasso)\n",
    "    plot(cost_sgd_lasso,\"SGD with lasso\")\n",
    "\n",
    "part4_main()"
   ]
  },
  {
   "cell_type": "markdown",
   "metadata": {},
   "source": [
    " part 1.5\n",
    " Effect on sample distribution: Train the regression model (without any regularization)\n",
    "using SGD taking 10%, 20%, 30%, 40% and 50% samples (randomly drawn out of the dataset)\n",
    "for training. Plot/Report the test accuracy in each sampled subsets using the testset given.\n",
    "What do you observe when using such a truncated population distribution?\n"
   ]
  },
  {
   "cell_type": "code",
   "execution_count": null,
   "metadata": {},
   "outputs": [],
   "source": [
    "def predict(x,theta,y_max):\n",
    "    y_pred=x.dot(theta)\n",
    "    return y_pred#*y_max\n",
    "\n",
    "def prediction_error(pred_model,pred):\n",
    "    err= np.mean((pred_model-pred)**2)\n",
    "    print(\"error : \\n\"+ str(err))\n",
    "#calculate % accuracy\n",
    "def accuracy(pred_model,pred): \n",
    "    acc=100-np.mean(np.abs((pred_model-pred)/pred))*100\n",
    "    print(\"accuracy : \\n\"+ str(acc))\n",
    "\n",
    "def plot(cost,gd):\n",
    "    plt.plot(cost)\n",
    "    plt.xlabel(\"iterations\")\n",
    "    plt.ylabel(\"cost\")\n",
    "    plt.title(\"cost vs iterations \"+ gd)\n",
    "    plt.show()\n",
    "\n",
    "\n",
    "\n",
    "#randomly draw % of data for testing\n",
    "def divide_data(x,y,train_percent):\n",
    "    #x,y=shuffle_data(x,y)\n",
    "    train_size=int(np.size(x,axis=0)*train_percent/100)\n",
    "    x_train=x[:train_size,:]\n",
    "    y_train=y[:train_size]\n",
    "    x_test=x[train_size:,:]\n",
    "    y_test=y[train_size:]\n",
    "    return x_train,y_train,x_test,y_test\n",
    "\n",
    "def part5_main():\n",
    "    x1,y1=read_data(\"train.csv\")\n",
    "    max_x,x,max_y,y=pre_process(x1,y1)\n",
    "    sample_space=[10,20,30,40,50]\n",
    "    for size in range(len(sample_space)):\n",
    "        sample_size=sample_space[size]\n",
    "        print(\"\\nsample size : \"+str(sample_size) + \" %\")\n",
    "        x_train,y_train,x_test,y_test=divide_data(x,y,sample_size)\n",
    "        print(\"\\nstochastic gradient descent : \\n\")\n",
    "        theta_sgd,cost_sgd=stochastic_gradient_descent(x_train,y_train,1,0.0001)\n",
    "        y_pred=predict(x_test,theta_sgd,max_y)\n",
    "        #y_test=y_test*max_y\n",
    "        prediction_error(y_pred,y_test)\n",
    "        accuracy(y_pred,y_test)\n",
    "        print(\"theta for stochastic gradient descent: \\n\",theta_sgd)\n",
    "        #plot(cost_sgd,\" sgd \"+str(sample_size))\n",
    "part5_main()"
   ]
  },
  {
   "cell_type": "markdown",
   "metadata": {},
   "source": [
    "part 1.6\n",
    "Estimate the variance in the noise. Report the strategy for estimation."
   ]
  },
  {
   "cell_type": "code",
   "execution_count": null,
   "metadata": {},
   "outputs": [],
   "source": [
    "#estimate variance in the noise\n",
    "def estimate_variance(x,y,theta):\n",
    "    m=np.size(x,axis=0)\n",
    "    n=np.size(x,axis=1)\n",
    "    y_pred=x.dot(theta)\n",
    "    err=np.mean((y_pred-y)**2)\n",
    "    var=err*(1/m)*np.linalg.inv(x.T.dot(x))\n",
    "    return var\n",
    "\n",
    "#part 6 main function\n",
    "def part6_main():\n",
    "    x1,y1=read_data(\"train.csv\")\n",
    "    max_x,x,max_y,y=pre_process(x1,y1)\n",
    "    print(\"\\nstochastic gradient descent : \\n\")\n",
    "    theta_sgd,cost_sgd=stochastic_gradient_descent(x,y,1,0.0001)\n",
    "    print(\"theta for stochastic gradient descent: \\n\",theta_sgd)\n",
    "    var=estimate_variance(x,y,theta_sgd)\n",
    "    print(\"variance in the noise : \\n\",var)\n",
    "\n",
    "part6_main()\n"
   ]
  },
  {
   "cell_type": "markdown",
   "metadata": {},
   "source": [
    "Part 1.7\n",
    "Optimal weights: Using the empirical approach and the intuition you have developed so far,\n",
    "use a scheme (of your choice) to find the most optimal weights to the regression function for\n",
    "this dataset. This may include adding other penalty terms to some weights, or customizing\n",
    "the cost function, etc. Every solution is acceptable as long as it is within the bounds of the\n",
    "definition of multivariate linear regression. Report the weights using the strategy that\n",
    "you have followed. You are encouraged to try cross-validation, hyperparameter tuning and\n",
    "regularization to improve the results."
   ]
  },
  {
   "cell_type": "code",
   "execution_count": null,
   "metadata": {},
   "outputs": [],
   "source": [
    "#strategy to find the best lambda\n",
    "def find_best_lambda(x,y):\n",
    "    m=np.size(x,axis=0)\n",
    "    n=np.size(x,axis=1)\n",
    "    theta=np.zeros(shape=(n,1))\n",
    "    alpha=0.0001\n",
    "    precision=0.0001\n",
    "    cost=np.zeros(shape=(1000,1))\n",
    "    for i in range(1000):\n",
    "        theta=theta-alpha*(x.T.dot(x.dot(theta)-y))\n",
    "        cost[i]=ridge_cost(x,y,theta,alpha)\n",
    "        if (cost[i] <= precision):\n",
    "            break\n",
    "    var=estimate_variance(x,y,theta)\n",
    "    lambda_reg=1/(2*var)\n",
    "    return lambda_reg\n",
    "\n",
    "#calculate optimal theta \n",
    "def optimal_theta(x,y):\n",
    "    lambda_reg=find_best_lambda(x,y)\n",
    "    theta=np.linalg.inv(x.T.dot(x)+lambda_reg*np.identity(np.size(x,axis=1))).dot(x.T).dot(y)\n",
    "    return theta\n",
    "\n",
    "#part 7 main function\n",
    "def part7_main():\n",
    "    x1,y1=read_data(\"train.csv\")\n",
    "    max_x,x,max_y,y=pre_process(x1,y1)\n",
    "    theta=optimal_theta(x,y)\n",
    "    print(\"theta for optimal theta: \\n\",theta)\n",
    "    y_pred=predict(x,theta,max_y)\n",
    "    prediction_error(y_pred,y)\n",
    "    accuracy(y_pred,y)\n",
    "\n",
    "part7_main()"
   ]
  }
 ],
 "metadata": {
  "kernelspec": {
   "display_name": "Python 3.9.12 ('cod')",
   "language": "python",
   "name": "python3"
  },
  "language_info": {
   "codemirror_mode": {
    "name": "ipython",
    "version": 3
   },
   "file_extension": ".py",
   "mimetype": "text/x-python",
   "name": "python",
   "nbconvert_exporter": "python",
   "pygments_lexer": "ipython3",
   "version": "3.9.12"
  },
  "orig_nbformat": 4,
  "vscode": {
   "interpreter": {
    "hash": "492507b066ecfb95b820fbc82a6ba63cb56ef5ffd0a306aa7a04a5db159bced6"
   }
  }
 },
 "nbformat": 4,
 "nbformat_minor": 2
}
